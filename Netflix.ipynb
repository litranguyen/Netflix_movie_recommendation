{
 "cells": [
  {
   "cell_type": "code",
   "execution_count": null,
   "id": "6b714c21-869a-42de-a0cc-621ae7ea14b4",
   "metadata": {},
   "outputs": [],
   "source": [
    "!pip install jupyterlab_widgets"
   ]
  },
  {
   "cell_type": "code",
   "execution_count": null,
   "id": "af27a4d4-7f6c-4817-beac-39cfbcbdff65",
   "metadata": {},
   "outputs": [],
   "source": [
    "!jupyter labextension install @jupyter-widgets/jupyterlab-manager@^2.0.0"
   ]
  },
  {
   "cell_type": "code",
   "execution_count": null,
   "id": "546a69ec-7637-433f-8dd3-83424a7e6348",
   "metadata": {},
   "outputs": [],
   "source": [
    "!jupyter lab build"
   ]
  },
  {
   "cell_type": "code",
   "execution_count": null,
   "id": "1edd7860-431e-4b46-95c8-f501d8d86966",
   "metadata": {},
   "outputs": [],
   "source": [
    "import ipywidgets as widgets\n",
    "from IPython.display import display, clear_output\n",
    "import pandas as pd"
   ]
  },
  {
   "cell_type": "code",
   "execution_count": null,
   "id": "c7332c22-7be2-4979-b10b-ea3468fdbf89",
   "metadata": {},
   "outputs": [],
   "source": [
    "tags_df = pd.read_csv('tags.csv')      \n",
    "movies_df = pd.read_csv('movies.csv')\n",
    "ratings_df = pd.read_csv('ratings.csv')\n",
    "print(tags_df.head())\n",
    "print(movies_df.head())\n",
    "print(ratings_df.head())"
   ]
  },
  {
   "cell_type": "code",
   "execution_count": null,
   "id": "f5d8f831-156f-4a69-835f-197c8afb43be",
   "metadata": {},
   "outputs": [],
   "source": [
    "movies_df['year'] = movies_df['title'].str.extract(r'\\((\\d{4})\\)').astype(float)"
   ]
  },
  {
   "cell_type": "code",
   "execution_count": null,
   "id": "7b0f910d-3409-4615-9f95-722c72830bfe",
   "metadata": {},
   "outputs": [],
   "source": [
    "#merge tag and movie tables\n",
    "tags_movies_df = pd.merge(tags_df, movies_df, on='movieId')"
   ]
  },
  {
   "cell_type": "code",
   "execution_count": null,
   "id": "c1149298-dbc9-40b8-93ac-f2374229890c",
   "metadata": {},
   "outputs": [],
   "source": [
    "#convert tag to lowercase for uniformity\n",
    "tags_movies_df['tag']=tags_movies_df['tag'].str.lower()\n",
    "print(tags_movies_df[['movieId', 'title', 'tag']].head())"
   ]
  },
  {
   "cell_type": "code",
   "execution_count": null,
   "id": "d6983d1c-06b2-484a-a590-5b7efe86fa38",
   "metadata": {},
   "outputs": [],
   "source": [
    "#define mood category\n",
    "mood_keywords = {\n",
    "    \"happy\": [\"funny\", \"feel-good\", \"uplifting\", \"comedy\"],\n",
    "    \"sad\": [\"tearjerker\", \"emotional\", \"tragic\", \"cry\"],\n",
    "    \"romantic\": [\"romantic\", \"love\", \"date night\"],\n",
    "    \"thrilling\": [\"thriller\", \"suspense\", \"intense\", \"edge of seat\"],\n",
    "    \"exciting\": [\"action\", \"adventure\", \"fast-paced\"],\n",
    "    \"scary\": [\"horror\", \"scary\", \"spooky\", \"creepy\"],\n",
    "    \"inspirational\": [\"inspirational\", \"motivational\", \"biography\", \"life lesson\"]}"
   ]
  },
  {
   "cell_type": "code",
   "execution_count": null,
   "id": "75b72204-af58-4fb4-906b-9df81dc97647",
   "metadata": {},
   "outputs": [],
   "source": [
    "#rating summary\n",
    "ratings_summary_df = ratings_df.groupby('movieId')['rating'].agg(['mean', 'count']).reset_index()\n",
    "ratings_summary_df.columns = ['movieId', 'avg_rating', 'rating_count']"
   ]
  },
  {
   "cell_type": "code",
   "execution_count": null,
   "id": "a7bae908-20d0-44b6-afce-e809c410f2ec",
   "metadata": {},
   "outputs": [],
   "source": [
    "#recommendation function\n",
    "def get_movies_by_mood_with_rating (mood, top=10, min_rating = 100):\n",
    "    keywords = mood_keywords.get(mood.lower())\n",
    "    if not keywords:\n",
    "        return pd.Dataframe() #return empty\n",
    "    filtered = tags_movies_df[tags_movies_df['tag'].isin(keywords)]\n",
    "    filtered = filtered.merge(ratings_summary_df, on = 'movieId', how='left')\n",
    "    result = filtered[['movieId','title','tag','avg_rating','rating_count']].drop_duplicates()\n",
    "    result = result[result['rating_count'] >= min_rating]\n",
    "    result = result.sort_values(by='avg_rating', ascending=False).reset_index(drop=True)\n",
    "    return result.head(top)"
   ]
  },
  {
   "cell_type": "code",
   "execution_count": null,
   "id": "71e1ab97-79a3-4d2f-aca9-28924c0a5e99",
   "metadata": {},
   "outputs": [],
   "source": [
    "#create a dropdown menu\n",
    "mood_dropdown = widgets.Dropdown(\n",
    "    options=[\"\"] + list(mood_keywords.keys()),  # Add blank option\n",
    "    description='Select Mood:',\n",
    "    value=''  # default blank\n",
    ")\n",
    "#button to trigger recommendation\n",
    "recommend_button = widgets.Button(description = \"Recommend Movies\")\n",
    "output = widgets.Output()"
   ]
  },
  {
   "cell_type": "code",
   "execution_count": 52,
   "id": "6c38dbc0-ac5e-4b59-b266-d6d103702685",
   "metadata": {},
   "outputs": [
    {
     "data": {
      "application/vnd.jupyter.widget-view+json": {
       "model_id": "686544a2ac73482aa3648bbbdf8b8c5d",
       "version_major": 2,
       "version_minor": 0
      },
      "text/plain": [
       "Dropdown(description='Select Mood:', index=2, options=('', 'happy', 'sad', 'romantic', 'thrilling', 'exciting'…"
      ]
     },
     "metadata": {},
     "output_type": "display_data"
    },
    {
     "data": {
      "application/vnd.jupyter.widget-view+json": {
       "model_id": "4bb45c0f969341188328e0ef76e143ed",
       "version_major": 2,
       "version_minor": 0
      },
      "text/plain": [
       "Button(description='Recommend Movies', style=ButtonStyle())"
      ]
     },
     "metadata": {},
     "output_type": "display_data"
    },
    {
     "data": {
      "application/vnd.jupyter.widget-view+json": {
       "model_id": "88c662cb7bfd45a09d1032d087a0dd7d",
       "version_major": 2,
       "version_minor": 0
      },
      "text/plain": [
       "Output(outputs=({'output_type': 'display_data', 'data': {'text/plain': \"   movieId                            …"
      ]
     },
     "metadata": {},
     "output_type": "display_data"
    }
   ],
   "source": [
    "#define on button click\n",
    "\n",
    "def on_button_clicked(b):\n",
    "    with output:\n",
    "        clear_output()\n",
    "        select_mood = mood_dropdown.value\n",
    "        if not select_mood:\n",
    "            print(\"⚠️ Please select a mood from the dropdown.\")\n",
    "        else:\n",
    "            mood_movies = get_movies_by_mood_with_rating(select_mood)\n",
    "            if isinstance(mood_movies, str):\n",
    "                print(mood_movies)\n",
    "            else:\n",
    "                display(mood_movies.head(10))  # Show top 10 matches\n",
    "\n",
    "recommend_button.on_click(on_button_clicked)\n",
    "\n",
    "# Show dropdown and button\n",
    "display(mood_dropdown, recommend_button, output)"
   ]
  },
  {
   "cell_type": "code",
   "execution_count": null,
   "id": "07309a29-41ca-47d3-97d9-2d7dc17b43b7",
   "metadata": {},
   "outputs": [],
   "source": []
  }
 ],
 "metadata": {
  "kernelspec": {
   "display_name": "Python 3 (ipykernel)",
   "language": "python",
   "name": "python3"
  },
  "language_info": {
   "codemirror_mode": {
    "name": "ipython",
    "version": 3
   },
   "file_extension": ".py",
   "mimetype": "text/x-python",
   "name": "python",
   "nbconvert_exporter": "python",
   "pygments_lexer": "ipython3",
   "version": "3.11.8"
  }
 },
 "nbformat": 4,
 "nbformat_minor": 5
}
